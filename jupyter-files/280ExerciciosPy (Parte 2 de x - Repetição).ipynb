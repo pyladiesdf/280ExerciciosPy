{
 "cells": [
  {
   "cell_type": "code",
   "execution_count": null,
   "metadata": {},
   "outputs": [],
   "source": [
    "### Códigos com intuito de resolução de 280 exercicios utilizando a liguagem python\n",
    "### Fonte dos Exercicios: Linguagem C por Oswaldo Borges Peres\n",
    "### Criação em Julho/2019\n",
    "### Versão Python: 3.7.3"
   ]
  },
  {
   "cell_type": "code",
   "execution_count": null,
   "metadata": {},
   "outputs": [],
   "source": [
    "#24 #Faça um programa que imprima os números de 1 a 100\n",
    "index = 1\n",
    "while (index < 100):\n",
    "    print(index)\n",
    "    index += 1 #sintaxe incremental"
   ]
  },
  {
   "cell_type": "code",
   "execution_count": null,
   "metadata": {},
   "outputs": [],
   "source": [
    "#25 #Faça um programa que imprima os números de 100 a 1,  nesta ordem.\n",
    "index = 100\n",
    "while (index > 0):\n",
    "    print(index)\n",
    "    index -= 1 #sintaxe decremental"
   ]
  },
  {
   "cell_type": "code",
   "execution_count": null,
   "metadata": {},
   "outputs": [],
   "source": [
    "#26 #Faça  um  programa  que  imprima  os  números  pares no intervalo de 1 a 300.\n",
    "index = 1\n",
    "while (index < 300):\n",
    "    print(index)\n",
    "    index += 1"
   ]
  },
  {
   "cell_type": "code",
   "execution_count": null,
   "metadata": {},
   "outputs": [],
   "source": [
    "#27 #Faça  um  programa  que  imprima  os  números  de  64 a 256.\n",
    "index = 64\n",
    "while (index <= 256):\n",
    "    print(index)\n",
    "    index += 1"
   ]
  },
  {
   "cell_type": "code",
   "execution_count": null,
   "metadata": {},
   "outputs": [],
   "source": [
    "#28 Faça  um  programa  que  imprima  os  números ímpares no intervalo de 531 a 750.\n",
    "index = 531\n",
    "while (index <= 750):\n",
    "    print(index)\n",
    "    index += 1"
   ]
  },
  {
   "cell_type": "code",
   "execution_count": null,
   "metadata": {},
   "outputs": [],
   "source": [
    "#29 #Faça  um  programa  que  leia  um  número  da entrada  e  imprima  os  números  naturais  de  0  até  este  \n",
    "#número.  Suponha  que  o  número  lido  da  entrada  será maior que zero.\n",
    "numero = int(input(\"Escreva um número natural: \"))\n",
    "index = 0\n",
    "\n",
    "while (index <= numero):\n",
    "    print(index)\n",
    "    index += 1\n",
    "    \n"
   ]
  },
  {
   "cell_type": "code",
   "execution_count": null,
   "metadata": {},
   "outputs": [],
   "source": [
    "#30 #Faça  um  programa  que  leia  um  número  da entrada  e  imprima  os  números  naturais  de  0  até  este  \n",
    "# número,  pulando  de  dois  em  dois.  Suponha  que  o número lido da entrada será maior que zero.\n",
    "\n",
    "numero = int(input(\"Escreva um número natural: \"))\n",
    "index = 0\n",
    "\n",
    "while (index <= numero):\n",
    "    print(index)\n",
    "    index += 2    \n",
    "    "
   ]
  },
  {
   "cell_type": "code",
   "execution_count": null,
   "metadata": {},
   "outputs": [],
   "source": [
    "#31 #Faça  um  programa  que  leia  um  número  da entrada  (limite),\n",
    "#um  incremento  (incr)  e  imprima  os  números  naturais  de  0  até limite pulando  de  incr. \n",
    "#Suponha  que limite  e  incr  são  maiores  que  zero.  \n",
    "#Exemplo: \n",
    "#valores lidos: \n",
    "#10 (limite) 3 (incr)\n",
    "#impressão:\n",
    "#0   3   6   9\n",
    "\n",
    "limite = int(input(\"Escreva um limite: \"))\n",
    "incr = int(input(\"Escreva um número natural maior que 0: \"))\n",
    "index = 0\n",
    "\n",
    "while (index <= limite):\n",
    "    print(index)\n",
    "    index += incr  \n"
   ]
  },
  {
   "cell_type": "code",
   "execution_count": null,
   "metadata": {},
   "outputs": [],
   "source": [
    "#32 #Faça   um   programa  que  leia  um  número  da entrada  e  imprima  os  números  ímpares  menores  do  que este número. \n",
    "#Exemplo:\n",
    "#valor lido:\n",
    "#7\n",
    "#impressão:\n",
    "#1   3   5\n",
    "\n",
    "numero = int(input(\"Escreva um número: \"))\n",
    "index = 1\n",
    "\n",
    "while (index <= numero):\n",
    "    print(index)\n",
    "    index += 2  \n"
   ]
  },
  {
   "cell_type": "code",
   "execution_count": null,
   "metadata": {},
   "outputs": [],
   "source": [
    "#33 #Faça   um   programa   que   leia   um   número   da entrada  (num)  e  imprima  os  num primeiros  números pares. Exemplo:\n",
    "#valor lido: 6       \n",
    "#impressão: 2   4   6   8   10   12\n",
    "num = int(input(\"Escreva um número: \"))\n",
    "inicial = 2\n",
    "index = 1\n",
    "\n",
    "while (index <= num):\n",
    "    print(inicial)\n",
    "    inicial += 2\n",
    "    index += 1  "
   ]
  },
  {
   "cell_type": "code",
   "execution_count": null,
   "metadata": {},
   "outputs": [],
   "source": [
    "#34 #Faça  um  programa  que  imprima  a  tabuada  de  5 no formato:\n",
    "#5 x 1 = 5\n",
    "#5 x 2 = 10\n",
    "#... ... ...\n",
    "#5 x 10 = 50\n",
    "\n",
    "index = 1\n",
    "\n",
    "while (index <= 10):\n",
    "    print(\"5 x \" + str(index) + \"= \" + str(5 * index))\n",
    "    index += 1\n"
   ]
  },
  {
   "cell_type": "code",
   "execution_count": null,
   "metadata": {},
   "outputs": [],
   "source": [
    "#35 #Faça   um   programa   que   leia   um   número   da entrada  e  imprima  a  tabuada  deste  número.  \n",
    "#Suponha  que o número lido da entrada é maior que zero.\n",
    "\n",
    "numero = int(input(\"Escreva número para a tabuada\"))\n",
    "index = 1\n",
    "\n",
    "while (index <= 10):\n",
    "    print(str(numero) + \" x \" + str(index) + \"= \" + str(numero * index))\n",
    "    index += 1"
   ]
  },
  {
   "cell_type": "code",
   "execution_count": null,
   "metadata": {},
   "outputs": [],
   "source": [
    "#36 #Faça um programa que imprima as tabuadas dos  números de 1 a 10.\n",
    "\n",
    "numero1 = 1\n",
    "numero2 = 1\n",
    "\n",
    "while (numero1 <= 10):\n",
    "    print(\"\\nTabuada de \" + str(numero1) + \" :\\n\")\n",
    "    while (numero2 <= 10):\n",
    "        print(str(numero1) + \" x \" + str(numero2) + \"= \" + str(numero1 * numero2))\n",
    "        numero2 += 1\n",
    "    numero1 += 1\n",
    "    numero2 = 1"
   ]
  }
 ],
 "metadata": {
  "kernelspec": {
   "display_name": "Python 3",
   "language": "python",
   "name": "python3"
  },
  "language_info": {
   "codemirror_mode": {
    "name": "ipython",
    "version": 3
   },
   "file_extension": ".py",
   "mimetype": "text/x-python",
   "name": "python",
   "nbconvert_exporter": "python",
   "pygments_lexer": "ipython3",
   "version": "3.7.3"
  }
 },
 "nbformat": 4,
 "nbformat_minor": 2
}
