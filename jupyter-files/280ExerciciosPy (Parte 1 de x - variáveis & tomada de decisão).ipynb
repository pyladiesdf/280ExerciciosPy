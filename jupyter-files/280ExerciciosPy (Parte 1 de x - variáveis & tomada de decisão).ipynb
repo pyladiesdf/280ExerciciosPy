{
 "cells": [
  {
   "cell_type": "code",
   "execution_count": null,
   "metadata": {},
   "outputs": [],
   "source": [
    "### Códigos com intuito de resolução de 280 exercicios utilizando a liguagem python\n",
    "### Fonte dos Exercicios: Linguagem C por Oswaldo Borges Peres\n",
    "### Criação em Julho/2019\n",
    "### Versão Python: 3.7.3"
   ]
  },
  {
   "cell_type": "code",
   "execution_count": null,
   "metadata": {},
   "outputs": [],
   "source": [
    "#1 #Faça um programa que imprima o produto entre 35 e 47.\n",
    "\n",
    "print(35 * 47)"
   ]
  },
  {
   "cell_type": "code",
   "execution_count": null,
   "metadata": {},
   "outputs": [],
   "source": [
    "#2 #Faça um programa que imprima a média aritmética entre os números 12, 25 e 53.\n",
    "\n",
    "print((12 + 25 + 53)/3)"
   ]
  },
  {
   "cell_type": "code",
   "execution_count": null,
   "metadata": {},
   "outputs": [],
   "source": [
    "#3 #Faça um programa que leia 2 números da entrada e imprima o seu produto.\n",
    "\n",
    "###Cuidado ao usar a função input() na versão do python2 pois essa função permite a execução de comandos pois não\n",
    "###transforma o valor de entrada em uma string. Então no python2 utilizar a função raw_input(). \n",
    "###E em ambas versões, python2 e python3, a função eval() pode executar algo digitado pelo usuário que\n",
    "### abre uma tremenda brecha na segurança do programa e até do computador em que o programa está sendo utilizado.\n",
    "\n",
    "numero1 = float(input(\"Escreva número 1: \"))\n",
    "numero2 = float(input(\"Escreva número 2: \"))\n",
    "\n",
    "print(numero1 * numero2)"
   ]
  },
  {
   "cell_type": "code",
   "execution_count": null,
   "metadata": {},
   "outputs": [],
   "source": [
    "#4 #Faça um programa que leia 2 números da entrada e imprima a sua média aritmética.\n",
    "\n",
    "numero1 = float(input(\"Escreva número 1: \"))\n",
    "numero2 = float(input(\"Escreva número 2: \"))\n",
    "\n",
    "print((numero1 + numero2)/2)"
   ]
  },
  {
   "cell_type": "code",
   "execution_count": null,
   "metadata": {},
   "outputs": [],
   "source": [
    "#5 #Faça um programa que leia 2 números da entrada e imprima o resto da divisão inteira de um pelo outro.\n",
    "\n",
    "Dividendo = float(input(\"Escreva Dividendo: \"))\n",
    "Divisor = float(input(\"Escreva Divisor: \"))\n",
    "\n",
    "print('Resto da divisão: ' + str(Dividendo % Divisor))"
   ]
  },
  {
   "cell_type": "code",
   "execution_count": null,
   "metadata": {},
   "outputs": [],
   "source": [
    "#6 #Faça um programa que leia um número da entrada e imprima o seu antecedente e o seu sucessor.\n",
    "\n",
    "numero = int(input(\"Escreva Numero: \"))\n",
    "\n",
    "print(\"Antecedente: \" + str(numero -1))\n",
    "print(\"Sucessor: \" + str(numero + 1))"
   ]
  },
  {
   "cell_type": "code",
   "execution_count": null,
   "metadata": {},
   "outputs": [],
   "source": [
    "#7 #Faça um programa que leia um valor de conta de restaurante, representando o gasto realizado pelo cliente e\n",
    "#imprima o valor total a ser pago, considerando que o restaurante cobra 10% para o garçom.\n",
    "\n",
    "valorConta = float(input(\"Escreva Valor da Conta: \"))\n",
    "\n",
    "print(\"Valor total a ser pago: {:5.2f}\".format(valorConta * 1.1))\n",
    "\n"
   ]
  },
  {
   "cell_type": "code",
   "execution_count": null,
   "metadata": {},
   "outputs": [],
   "source": [
    "#8 #Faça um programa que leia um valor de hora e informe quantos minutos se passaram deste o início do dia.\n",
    " \n",
    "valorHoraMinuto = input(\"Escreva o valor da hora formato: \\\"24:00\\\": \")\n",
    "valores = valorHoraMinuto.split(':')\n",
    "\n",
    "print(\"Passaram {:d} minutos desde o início do dia\".format( int(valores[0]) * 60 + int(valores[1]) ))\n",
    "\n",
    "\n"
   ]
  },
  {
   "cell_type": "code",
   "execution_count": null,
   "metadata": {},
   "outputs": [],
   "source": [
    "#9 #Faça um programa que leia da entrada um número e imprima o seu valor absoluto (sem o sinal).\n",
    "\n",
    "import numpy as np\n",
    "\n",
    "\n",
    "numero = float(input(\"Escreva o número: \"))\n",
    "\n",
    "print(np.abs(numero))"
   ]
  },
  {
   "cell_type": "code",
   "execution_count": null,
   "metadata": {},
   "outputs": [],
   "source": [
    "#10 #Faça um programa que leia um número e imprima uma mensagem dizendo se é par ou impar.\n",
    "\n",
    "numero = float(input(\"Escreva o número: \"))\n",
    "\n",
    "if numero % 2 == 0:\n",
    "    print(\"Número é Par\")\n",
    "elif numero % 2 == 1:\n",
    "    print(\"Número é Impar\")\n",
    "else:\n",
    "    print(\"ERROR\")"
   ]
  },
  {
   "cell_type": "code",
   "execution_count": null,
   "metadata": {},
   "outputs": [],
   "source": [
    "#11 #Faça um programa que leia 2 números e imprima uma mensagem dizendo se são iguais ou diferentes.\n",
    "\n",
    "numero1 = float(input(\"Escreva o número: \"))\n",
    "numero2 = float(input(\"Escreva o número: \"))\n",
    "\n",
    "if numero1 == numero2:\n",
    "    print(\"Os números são iguais\")\n",
    "elif numero1 != numero2:\n",
    "    print(\"Os números são diferentes\")\n",
    "else:\n",
    "    print(\"ERROR\")\n"
   ]
  },
  {
   "cell_type": "code",
   "execution_count": null,
   "metadata": {},
   "outputs": [],
   "source": [
    "#12 #Faça um programa que leia 2 números e imprima uma mensagem dizendo o maior deles.\n",
    "#Suponha que os números serão diferentes.\n",
    "\n",
    "#13 #Faça um programa que leia 2 números e imprima uma mensagem dizendo o maior deles.\n",
    "#Detalhe: se os números forem iguais, imprima uma mensagem avisando ao usuário.\n",
    "\n",
    "\n",
    "numero1 = float(input(\"Escreva o número: \"))\n",
    "numero2 = float(input(\"Escreva o número: \"))\n",
    "\n",
    "if numero1 > numero2:\n",
    "    print(\"O número {0} é maior\".format(numero1))\n",
    "elif numero1 < numero2:\n",
    "    print(\"O número {0} é maior\".format(numero2))\n",
    "else:\n",
    "    print(\"Os números são iguais\")"
   ]
  },
  {
   "cell_type": "code",
   "execution_count": null,
   "metadata": {},
   "outputs": [],
   "source": [
    "#14 #Faça um programa que leia 2 números e os imprima em ordem crescente.\n",
    "\n",
    "numero = float(input(\"Escreva o número: \"))\n",
    "lista = [numero]\n",
    "numero = float(input(\"Escreva o número: \"))\n",
    "lista.append(numero)\n",
    "\n",
    "print(sorted(lista))\n"
   ]
  },
  {
   "cell_type": "code",
   "execution_count": null,
   "metadata": {},
   "outputs": [],
   "source": [
    "#15 #Faça um programa que leia 2 números e os imprima em ordem decrescente.\n",
    "numero = float(input(\"Escreva o número: \"))\n",
    "lista = [numero]\n",
    "numero = float(input(\"Escreva o número: \"))\n",
    "lista.append(numero)\n",
    "\n",
    "print(sorted(lista, reverse=True))"
   ]
  },
  {
   "cell_type": "code",
   "execution_count": null,
   "metadata": {},
   "outputs": [],
   "source": [
    "#16 #Faça um programa que leia 3 números e imprima o menor deles.\n",
    "numero = float(input(\"Escreva o número: \"))\n",
    "lista = [numero]\n",
    "numero = float(input(\"Escreva o número: \"))\n",
    "lista.append(numero)\n",
    "numero = float(input(\"Escreva o número: \"))\n",
    "lista.append(numero)\n",
    "lista = sorted(lista)\n",
    "\n",
    "print(lista[0])\n"
   ]
  },
  {
   "cell_type": "code",
   "execution_count": null,
   "metadata": {},
   "outputs": [],
   "source": [
    "#17 #Faça um programa que leia 3 números e os imprima em ordem crescente.\n",
    "numero = float(input(\"Escreva o número: \"))\n",
    "lista = [numero]\n",
    "numero = float(input(\"Escreva o número: \"))\n",
    "lista.append(numero)\n",
    "numero = float(input(\"Escreva o número: \"))\n",
    "lista.append(numero)\n",
    "\n",
    "\n",
    "print(sorted(lista))"
   ]
  },
  {
   "cell_type": "code",
   "execution_count": null,
   "metadata": {},
   "outputs": [],
   "source": [
    "#18 #Faça um programa que leia 3 números e os imprima em ordem decrescente.\n",
    "\n",
    "numero = float(input(\"Escreva o número: \"))\n",
    "lista = [numero]\n",
    "numero = float(input(\"Escreva o número: \"))\n",
    "lista.append(numero)\n",
    "numero = float(input(\"Escreva o número: \"))\n",
    "lista.append(numero)\n",
    "\n",
    "\n",
    "print(sorted(lista, reverse=True))"
   ]
  },
  {
   "cell_type": "code",
   "execution_count": null,
   "metadata": {},
   "outputs": [],
   "source": [
    "#19 #Faça um programa que leia 3 números e imprima o valor intermediário, entre o menor e o maior número.\n",
    "#Suponha que os números serão diferentes.\n",
    "numero = float(input(\"Escreva o número: \"))\n",
    "lista = [numero]\n",
    "numero = float(input(\"Escreva o número: \"))\n",
    "lista.append(numero)\n",
    "numero = float(input(\"Escreva o número: \"))\n",
    "lista.append(numero)\n",
    "lista = sorted(lista)\n",
    "\n",
    "print(lista[1])"
   ]
  },
  {
   "cell_type": "code",
   "execution_count": null,
   "metadata": {},
   "outputs": [],
   "source": [
    "# 20 #Faça um programa que leia 3 números e imprima uma das seguintes mensagens:\n",
    "#· todos os números são iguais;\n",
    "#· todos os números são diferentes ou\n",
    "#· apenas dois números são iguais.\n",
    "\n",
    "numero = float(input(\"Escreva o número: \"))\n",
    "lista = [numero]\n",
    "numero = float(input(\"Escreva o número: \"))\n",
    "lista.append(numero)\n",
    "numero = float(input(\"Escreva o número: \"))\n",
    "lista.append(numero)\n",
    "\n",
    "if (lista[0] == lista[1]):\n",
    "    if (lista[1] == lista[2]):\n",
    "        print(\"todos números são iguais.\")\n",
    "    elif (lista[1] != lista[2]):\n",
    "        print(\"apenas dois números são iguais.\")\n",
    "elif (lista[0] == lista[2] and lista[0] != lista[1]):\n",
    "        print(\"apenas dois números são iguais.\")\n",
    "elif (lista[1] == lista[2] and lista[1] != lista[0]):\n",
    "        print(\"apenas dois números são iguais.\")\n",
    "else:\n",
    "    print(\"todos números são diferentes\")\n"
   ]
  },
  {
   "cell_type": "code",
   "execution_count": null,
   "metadata": {},
   "outputs": [],
   "source": [
    "#21 #Faça um programa que leia três notas de um aluno, calcule sua média aritmética e imprima uma mensagem dizendo\n",
    "#se o aluno foi aprovado, reprovado ou deverá fazer prova final. \n",
    "#O critério de aprovação é o seguinte:\n",
    "#· aprovado (média 3 7);\n",
    "#·reprovado (média < 3) e\n",
    "#· prova final ( 3 £ média < 7).\n",
    "\n",
    "notas = []\n",
    "notas.append(float(input(\"Escreva a Nota de um aluno: \")))\n",
    "notas.append(float(input(\"Escreva a Nota de um aluno: \")))\n",
    "notas.append(float(input(\"Escreva a Nota de um aluno: \")))\n",
    "\n",
    "media = (sum(notas))/len(notas)\n",
    "\n",
    "if (media >= 7):\n",
    "    print(\"Aprovado\")\n",
    "elif (media >= 3):\n",
    "    print(\"Prova final\")\n",
    "else:\n",
    "    print(\"Reprovado\")\n",
    "\n",
    "notas.clear()"
   ]
  },
  {
   "cell_type": "code",
   "execution_count": 7,
   "metadata": {},
   "outputs": [
    {
     "name": "stdout",
     "output_type": "stream",
     "text": [
      "Escreva idade: 66\n",
      "Eleitor facultativo\n"
     ]
    }
   ],
   "source": [
    "#22 #Faça  um  programa  que  leia  a  idade  de  uma pessoa e informe sua classe eleitoral:\n",
    "#•não eleitor (abaixo de 16 anos);\n",
    "#•eleitor obrigatório (entre 18 e 65 anos) e\n",
    "#•eleitor facultativo (entre 16 e 18 anos e acima dos 65 anos).\n",
    "\n",
    "idade = int(input(\"Escreva idade: \"))\n",
    "\n",
    "if (idade < 16):\n",
    "    print(\"Não eleitor\")\n",
    "elif (idade >= 18 and idade <= 65):\n",
    "    print(\"Eleitor obrigatório\")\n",
    "else:\n",
    "    print(\"Eleitor facultativo\")"
   ]
  },
  {
   "cell_type": "code",
   "execution_count": 17,
   "metadata": {},
   "outputs": [
    {
     "name": "stdout",
     "output_type": "stream",
     "text": [
      "Escreva o valor da hora formato: \"24:00\": 12:00\n",
      "12:00 pm\n"
     ]
    }
   ],
   "source": [
    "#23 #Faça um programa que leia um horário no sistema de 24 horas e\n",
    "#imprima este horário no sistema de 12 horas.\n",
    "#Exemplo: \n",
    "#22:32 → 10:32  pm\n",
    "#0:00 → 12:00 am\n",
    "#6:00 → 6:00 am\n",
    "#12:00 → 12:00  pm\n",
    "\n",
    "hora24 = input(\"Escreva o valor da hora formato: \\\"24:00\\\": \")\n",
    "horaMinuto = hora24.split(':')\n",
    "hora = int(horaMinuto[0])\n",
    "minuto = horaMinuto[1]\n",
    "\n",
    "if (hora < 12):\n",
    "    print(hora24 + ' am')\n",
    "elif(hora > 12):\n",
    "    print( str(hora - 12) + \":\" + minuto + ' pm')\n",
    "else:\n",
    "    print( str(hora) + \":\" + minuto + ' pm')"
   ]
  }
 ],
 "metadata": {
  "kernelspec": {
   "display_name": "Python 3",
   "language": "python",
   "name": "python3"
  },
  "language_info": {
   "codemirror_mode": {
    "name": "ipython",
    "version": 3
   },
   "file_extension": ".py",
   "mimetype": "text/x-python",
   "name": "python",
   "nbconvert_exporter": "python",
   "pygments_lexer": "ipython3",
   "version": "3.7.3"
  }
 },
 "nbformat": 4,
 "nbformat_minor": 2
}
